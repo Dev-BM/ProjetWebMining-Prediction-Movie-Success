{
 "cells": [
  {
   "cell_type": "code",
   "execution_count": null,
   "metadata": {},
   "outputs": [],
   "source": [
    "from keras.models import Sequential\n",
    "from keras.models import Dense\n",
    "from sklearn.model_selection import train_test_split\n",
    "import numpy as np\n",
    "\n",
    "# seed for reproducing same results\n",
    "seed = 9\n",
    "np.random.seed(seed)\n",
    "\n",
    "# load pima indians dataset\n",
    "f = pd.read_csv(\"movie_metadata.csv\")\n",
    "data=DataFrame(f)\n",
    "X_data=data.dtypes[data.dtypes!='object'].index\n",
    "X=data[X_data]\n",
    "X=X.fillna(0)\n",
    "# split into input and output variables\n",
    "Y=X['imdb_score']\n",
    "X.drop(['imdb_score'],axis=1,inplace=True)\n",
    "\n",
    "# split the data into training (70%) and testing (30%)\n",
    "(X_train, X_test, Y_train, Y_test) = train_test_split(X, Y, test_size=0.30, random_state=seed)"
   ]
  },
  {
   "cell_type": "markdown",
   "metadata": {},
   "source": [
    "Dans Keras, un modèle est créé en utilisant Sequential.\n",
    "Neural Networks contient un grand nombre de neurones résidant à l'intérieur de plusieurs couches séquentielles. \n",
    "Nous allons créer un modèle qui a des couches entièrement connectées (Dense), ce qui signifie que tous les neurones sont connectés d'une couche à la couche suivante. \n"
   ]
  },
  {
   "cell_type": "markdown",
   "metadata": {},
   "source": [
    "Ceci est réalisé dans Keras avec l'aide de la fonction Dense. \n",
    "Nous allons utiliser l'architecture Deep Neural Network ci-dessus qui a une couche d'entrée unique, 2 couches cachées et une seule couche de sortie. Les données d'entrée qui sont de taille 15 sont des neurones. C'est une approche très utile, si nous n'avons aucune idée sur le nombre de neurons à spécifier dès la première tentative. De là, nous pouvons facilement effectuer la procédure d'essai et d'erreur pour augmenter l'architecture du réseau afin de produire de bons résultats."
   ]
  },
  {
   "cell_type": "code",
   "execution_count": null,
   "metadata": {},
   "outputs": [],
   "source": [
    "\n",
    "# create model\n",
    "model = Sequential()\n",
    "model.add(Dense(15, input_dim=15, activation='relu'))\n",
    "model.add(Dense(8, activation='relu'))\n",
    "model.add(Dense(1, activation='sigmoid'))"
   ]
  },
  {
   "cell_type": "code",
   "execution_count": 1,
   "metadata": {},
   "outputs": [
    {
     "name": "stdout",
     "output_type": "stream",
     "text": [
      "Accuracy: 93.80%\n"
     ]
    }
   ],
   "source": [
    "# compile the model\n",
    "model.compile(loss='binary_crossentropy', optimizer='adam', metrics=['accuracy'])\n",
    "\n",
    "# fit the model\n",
    "model.fit(X_train, Y_train, validation_data=(X_test, Y_test), nb_epoch=200, batch_size=5, verbose=0)\n",
    "\n",
    "# evaluate the model\n",
    "scores = model.evaluate(X_test, Y_test)\n",
    "print(\"Accuracy: %.2f%%\" % (scores[1]*100))\n"
   ]
  }
 ],
 "metadata": {
  "kernelspec": {
   "display_name": "Python 3",
   "language": "python",
   "name": "python3"
  },
  "language_info": {
   "codemirror_mode": {
    "name": "ipython",
    "version": 3
   },
   "file_extension": ".py",
   "mimetype": "text/x-python",
   "name": "python",
   "nbconvert_exporter": "python",
   "pygments_lexer": "ipython3",
   "version": "3.6.3"
  }
 },
 "nbformat": 4,
 "nbformat_minor": 2
}
